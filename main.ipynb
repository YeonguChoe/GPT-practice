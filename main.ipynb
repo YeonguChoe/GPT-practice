{
 "cells": [
  {
   "cell_type": "markdown",
   "id": "126786a8",
   "metadata": {},
   "source": [
    "# GPT Practice"
   ]
  },
  {
   "cell_type": "code",
   "execution_count": 59,
   "id": "c6ae4ee4",
   "metadata": {},
   "outputs": [
    {
     "name": "stdout",
     "output_type": "stream",
     "text": [
      "Defaulting to user installation because normal site-packages is not writeable\n",
      "Requirement already satisfied: torch in /Users/yeonguchoe/Library/Python/3.9/lib/python/site-packages (2.8.0)\n",
      "Requirement already satisfied: typing-extensions>=4.10.0 in /Users/yeonguchoe/Library/Python/3.9/lib/python/site-packages (from torch) (4.15.0)\n",
      "Requirement already satisfied: networkx in /Users/yeonguchoe/Library/Python/3.9/lib/python/site-packages (from torch) (3.2.1)\n",
      "Requirement already satisfied: filelock in /Users/yeonguchoe/Library/Python/3.9/lib/python/site-packages (from torch) (3.19.1)\n",
      "Requirement already satisfied: fsspec in /Users/yeonguchoe/Library/Python/3.9/lib/python/site-packages (from torch) (2025.9.0)\n",
      "Requirement already satisfied: jinja2 in /Users/yeonguchoe/Library/Python/3.9/lib/python/site-packages (from torch) (3.1.6)\n",
      "Requirement already satisfied: sympy>=1.13.3 in /Users/yeonguchoe/Library/Python/3.9/lib/python/site-packages (from torch) (1.14.0)\n",
      "Requirement already satisfied: mpmath<1.4,>=1.1.0 in /Users/yeonguchoe/Library/Python/3.9/lib/python/site-packages (from sympy>=1.13.3->torch) (1.3.0)\n",
      "Requirement already satisfied: MarkupSafe>=2.0 in /Users/yeonguchoe/Library/Python/3.9/lib/python/site-packages (from jinja2->torch) (3.0.3)\n",
      "\u001b[33mWARNING: You are using pip version 21.2.4; however, version 25.3 is available.\n",
      "You should consider upgrading via the '/Applications/Xcode.app/Contents/Developer/usr/bin/python3 -m pip install --upgrade pip' command.\u001b[0m\n"
     ]
    }
   ],
   "source": [
    "!pip3 install torch"
   ]
  },
  {
   "cell_type": "code",
   "execution_count": 60,
   "id": "e112b592",
   "metadata": {},
   "outputs": [
    {
     "name": "stdout",
     "output_type": "stream",
     "text": [
      "<class 'str'>\n"
     ]
    }
   ],
   "source": [
    "# Open data\n",
    "f = open(\"input.txt\", \"r\", encoding=\"utf-8\")\n",
    "text = f.read()\n",
    "print(type(text))\n",
    "text_length = len(text)\n",
    "half_text_length = len(text) // 2"
   ]
  },
  {
   "cell_type": "code",
   "execution_count": 61,
   "id": "1e5dee9b",
   "metadata": {},
   "outputs": [
    {
     "data": {
      "text/plain": [
       "64"
      ]
     },
     "execution_count": 61,
     "metadata": {},
     "output_type": "execute_result"
    }
   ],
   "source": [
    "# Unique characters\n",
    "chars = sorted(list(set(text)))\n",
    "vocab_size = len(chars)\n",
    "vocab_size"
   ]
  },
  {
   "cell_type": "code",
   "execution_count": 86,
   "id": "379964ea",
   "metadata": {},
   "outputs": [],
   "source": [
    "# Dictionary\n",
    "char_to_int = {element: index for index, element in enumerate(chars)}\n",
    "int_to_char = {index: element for index, element in enumerate(chars)}\n",
    "\n",
    "\n",
    "# Encode str into int list\n",
    "def encode(s):\n",
    "    result = []\n",
    "    for character in s:\n",
    "        result.append(char_to_int[character])\n",
    "    return result\n",
    "\n",
    "\n",
    "# Decode int list into str\n",
    "def decode(tensor):\n",
    "    l = tensor.tolist()\n",
    "    converted = []\n",
    "    for int in l:\n",
    "        converted.append(int_to_char[int])\n",
    "    result = \"\".join(converted)\n",
    "    return result"
   ]
  },
  {
   "cell_type": "code",
   "execution_count": 87,
   "id": "1f29e425",
   "metadata": {},
   "outputs": [],
   "source": [
    "# Tensor\n",
    "import torch\n",
    "data = torch.tensor(data=encode(text), dtype=torch.long)"
   ]
  },
  {
   "cell_type": "code",
   "execution_count": 89,
   "id": "57ab6da5",
   "metadata": {},
   "outputs": [
    {
     "data": {
      "text/plain": [
       "'KPop Demon Hunters is a 2025 American animated musical urban fantasy film. It was directed by Maggie Kang and Chris Appelhans, who also co-wrote the screenplay with Danya Jimenez and Hannah McMechan.\\nThe story was originally created by Kang.\\nThe film was produced by Sony Pictures Animation for Netflix.\\nThe film features the voices of Arden Cho, Ahn Hyo-seop, May Hong, Ji-young Yoo, Yunjin Kim, Daniel Dae Kim, Ken Jeong, and Lee Byung-hun.\\nIt tells the story of a K-pop girl group called Huntr/x,[a] who secretly work as demon hunters.\\nThey face off against a rival boy band, the Saja Boys, whose members are secretly demons.\\nKang was inspired to create the story by her Korean heritage. She combined elements of mythology, demon stories, and K-pop to make a film that is both visually unique and culturally meaningful.\\nBy March 2021, the project was officially in production at Sony Pictures Animation, with the full creative team on board.\\nThe animation was done by Sony Pictures Imageworks, and the visual style was influenced by concert l'"
      ]
     },
     "execution_count": 89,
     "metadata": {},
     "output_type": "execute_result"
    }
   ],
   "source": [
    "training_data = data[:half_text_length]\n",
    "validation_data = data[half_text_length:]\n",
    "validation_data\n",
    "decode(training_data)"
   ]
  },
  {
   "cell_type": "code",
   "execution_count": null,
   "id": "81de03d3",
   "metadata": {},
   "outputs": [],
   "source": []
  }
 ],
 "metadata": {
  "kernelspec": {
   "display_name": "Python 3",
   "language": "python",
   "name": "python3"
  },
  "language_info": {
   "codemirror_mode": {
    "name": "ipython",
    "version": 3
   },
   "file_extension": ".py",
   "mimetype": "text/x-python",
   "name": "python",
   "nbconvert_exporter": "python",
   "pygments_lexer": "ipython3",
   "version": "3.9.6"
  }
 },
 "nbformat": 4,
 "nbformat_minor": 5
}
